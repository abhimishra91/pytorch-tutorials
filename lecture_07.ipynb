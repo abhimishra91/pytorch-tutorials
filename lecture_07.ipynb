{
 "cells": [
  {
   "cell_type": "markdown",
   "metadata": {},
   "source": [
    "## Lecture 07:\n",
    "\n",
    "* Making wide and deep network with the diabetics dataset"
   ]
  },
  {
   "cell_type": "code",
   "execution_count": 1,
   "metadata": {},
   "outputs": [],
   "source": [
    "import pandas as pd\n",
    "import numpy as np\n",
    "import torch\n",
    "import matplotlib.pyplot as plt"
   ]
  },
  {
   "cell_type": "code",
   "execution_count": 2,
   "metadata": {},
   "outputs": [
    {
     "name": "stdout",
     "output_type": "stream",
     "text": [
      "X_data shape torch.Size([768, 8])\n",
      "y_data shape torch.Size([768, 1])\n"
     ]
    }
   ],
   "source": [
    "xy = np.loadtxt('./data/diabetes.csv', delimiter=',', skiprows=1, dtype = np.float32)\n",
    "x_data = torch.from_numpy(xy[:,0:-1])\n",
    "y_data = torch.from_numpy(xy[:,[-1]])\n",
    "\n",
    "print('X_data shape', x_data.shape)\n",
    "print('y_data shape', y_data.shape)"
   ]
  },
  {
   "cell_type": "code",
   "execution_count": 11,
   "metadata": {},
   "outputs": [
    {
     "name": "stdout",
     "output_type": "stream",
     "text": [
      "Epoch: 0, Loss:  0.6973557472229004\n",
      "Epoch: 100, Loss:  0.6468027830123901\n",
      "Epoch: 200, Loss:  0.6467949151992798\n",
      "Epoch: 300, Loss:  0.6467936635017395\n",
      "Epoch: 400, Loss:  0.6467936635017395\n",
      "Epoch: 500, Loss:  0.6467936635017395\n",
      "Epoch: 600, Loss:  0.6467936635017395\n",
      "Epoch: 700, Loss:  0.6467936635017395\n",
      "Epoch: 800, Loss:  0.6467936635017395\n",
      "Epoch: 900, Loss:  0.6467936635017395\n"
     ]
    }
   ],
   "source": [
    "class Model(torch.nn.Module):\n",
    "    def __init__(self):\n",
    "        super(Model, self).__init__()\n",
    "        self.l1 = torch.nn.Linear(8,6)\n",
    "        self.l2 = torch.nn.Linear(6,4)\n",
    "        self.l3 = torch.nn.Linear(4,1)\n",
    "        \n",
    "        self.sigmoid = torch.nn.Sigmoid()\n",
    "        \n",
    "    def forward(self, x):\n",
    "        out1 = self.sigmoid(self.l1(x))\n",
    "        out2 = self.sigmoid(self.l2(out1))\n",
    "        y_pred = self.sigmoid(self.l3(out2))\n",
    "        return y_pred\n",
    "    \n",
    "    \n",
    "model = Model()\n",
    "\n",
    "criterion = torch.nn.BCELoss(size_average=True)\n",
    "optimus = torch.optim.Adam(model.parameters(), lr = 0.3)\n",
    "\n",
    "\n",
    "for epoch in range(1000):\n",
    "    y_pred = model(x_data)\n",
    "    \n",
    "    loss = criterion(y_pred, y_data)\n",
    "    if epoch%100 == 0:\n",
    "        print(f'Epoch: {epoch}, Loss:  {loss.item()}')\n",
    "    \n",
    "    optimus.zero_grad()\n",
    "    loss.backward()\n",
    "    optimus.step()"
   ]
  },
  {
   "cell_type": "code",
   "execution_count": null,
   "metadata": {},
   "outputs": [],
   "source": []
  }
 ],
 "metadata": {
  "kernelspec": {
   "display_name": "Python 3",
   "language": "python",
   "name": "python3"
  },
  "language_info": {
   "codemirror_mode": {
    "name": "ipython",
    "version": 3
   },
   "file_extension": ".py",
   "mimetype": "text/x-python",
   "name": "python",
   "nbconvert_exporter": "python",
   "pygments_lexer": "ipython3",
   "version": "3.7.6"
  }
 },
 "nbformat": 4,
 "nbformat_minor": 4
}
